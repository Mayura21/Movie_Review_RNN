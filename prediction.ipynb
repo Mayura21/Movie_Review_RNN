{
 "cells": [
  {
   "cell_type": "code",
   "execution_count": 5,
   "id": "45eb4f4b",
   "metadata": {},
   "outputs": [],
   "source": [
    "import numpy as np\n",
    "import tensorflow as tf\n",
    "from tensorflow.keras.datasets import imdb\n",
    "from tensorflow.keras.preprocessing import sequence\n",
    "from tensorflow.keras.models import load_model\n",
    "from tensorflow.keras.layers import Embedding, SimpleRNN, Dense"
   ]
  },
  {
   "cell_type": "code",
   "execution_count": 3,
   "id": "5adbdf13",
   "metadata": {},
   "outputs": [],
   "source": [
    "# Mapping of word index back to words \n",
    "word_index = imdb.get_word_index()\n",
    "reverse_word_index = {value: key for key, value in word_index.items()}"
   ]
  },
  {
   "cell_type": "code",
   "execution_count": 6,
   "id": "4e0e38b5",
   "metadata": {},
   "outputs": [
    {
     "name": "stderr",
     "output_type": "stream",
     "text": [
      "WARNING:absl:Compiled the loaded model, but the compiled metrics have yet to be built. `model.compile_metrics` will be empty until you train or evaluate the model.\n"
     ]
    }
   ],
   "source": [
    "model = load_model('simple_rnn_imdb.h5')"
   ]
  },
  {
   "cell_type": "code",
   "execution_count": 7,
   "id": "628a1ed2",
   "metadata": {},
   "outputs": [
    {
     "data": {
      "text/plain": [
       "<bound method Model.summary of <Sequential name=sequential_2, built=True>>"
      ]
     },
     "execution_count": 7,
     "metadata": {},
     "output_type": "execute_result"
    }
   ],
   "source": [
    "model.summary"
   ]
  },
  {
   "cell_type": "code",
   "execution_count": 8,
   "id": "bcfc1cc7",
   "metadata": {},
   "outputs": [
    {
     "data": {
      "text/html": [
       "<pre style=\"white-space:pre;overflow-x:auto;line-height:normal;font-family:Menlo,'DejaVu Sans Mono',consolas,'Courier New',monospace\"><span style=\"font-weight: bold\">Model: \"sequential_2\"</span>\n",
       "</pre>\n"
      ],
      "text/plain": [
       "\u001b[1mModel: \"sequential_2\"\u001b[0m\n"
      ]
     },
     "metadata": {},
     "output_type": "display_data"
    },
    {
     "data": {
      "text/html": [
       "<pre style=\"white-space:pre;overflow-x:auto;line-height:normal;font-family:Menlo,'DejaVu Sans Mono',consolas,'Courier New',monospace\">┏━━━━━━━━━━━━━━━━━━━━━━━━━━━━━━━━━┳━━━━━━━━━━━━━━━━━━━━━━━━┳━━━━━━━━━━━━━━━┓\n",
       "┃<span style=\"font-weight: bold\"> Layer (type)                    </span>┃<span style=\"font-weight: bold\"> Output Shape           </span>┃<span style=\"font-weight: bold\">       Param # </span>┃\n",
       "┡━━━━━━━━━━━━━━━━━━━━━━━━━━━━━━━━━╇━━━━━━━━━━━━━━━━━━━━━━━━╇━━━━━━━━━━━━━━━┩\n",
       "│ embedding_1 (<span style=\"color: #0087ff; text-decoration-color: #0087ff\">Embedding</span>)         │ (<span style=\"color: #00af00; text-decoration-color: #00af00\">32</span>, <span style=\"color: #00af00; text-decoration-color: #00af00\">500</span>, <span style=\"color: #00af00; text-decoration-color: #00af00\">128</span>)         │     <span style=\"color: #00af00; text-decoration-color: #00af00\">1,280,000</span> │\n",
       "├─────────────────────────────────┼────────────────────────┼───────────────┤\n",
       "│ simple_rnn (<span style=\"color: #0087ff; text-decoration-color: #0087ff\">SimpleRNN</span>)          │ (<span style=\"color: #00af00; text-decoration-color: #00af00\">32</span>, <span style=\"color: #00af00; text-decoration-color: #00af00\">128</span>)              │        <span style=\"color: #00af00; text-decoration-color: #00af00\">32,896</span> │\n",
       "├─────────────────────────────────┼────────────────────────┼───────────────┤\n",
       "│ dense (<span style=\"color: #0087ff; text-decoration-color: #0087ff\">Dense</span>)                   │ (<span style=\"color: #00af00; text-decoration-color: #00af00\">32</span>, <span style=\"color: #00af00; text-decoration-color: #00af00\">1</span>)                │           <span style=\"color: #00af00; text-decoration-color: #00af00\">129</span> │\n",
       "└─────────────────────────────────┴────────────────────────┴───────────────┘\n",
       "</pre>\n"
      ],
      "text/plain": [
       "┏━━━━━━━━━━━━━━━━━━━━━━━━━━━━━━━━━┳━━━━━━━━━━━━━━━━━━━━━━━━┳━━━━━━━━━━━━━━━┓\n",
       "┃\u001b[1m \u001b[0m\u001b[1mLayer (type)                   \u001b[0m\u001b[1m \u001b[0m┃\u001b[1m \u001b[0m\u001b[1mOutput Shape          \u001b[0m\u001b[1m \u001b[0m┃\u001b[1m \u001b[0m\u001b[1m      Param #\u001b[0m\u001b[1m \u001b[0m┃\n",
       "┡━━━━━━━━━━━━━━━━━━━━━━━━━━━━━━━━━╇━━━━━━━━━━━━━━━━━━━━━━━━╇━━━━━━━━━━━━━━━┩\n",
       "│ embedding_1 (\u001b[38;5;33mEmbedding\u001b[0m)         │ (\u001b[38;5;34m32\u001b[0m, \u001b[38;5;34m500\u001b[0m, \u001b[38;5;34m128\u001b[0m)         │     \u001b[38;5;34m1,280,000\u001b[0m │\n",
       "├─────────────────────────────────┼────────────────────────┼───────────────┤\n",
       "│ simple_rnn (\u001b[38;5;33mSimpleRNN\u001b[0m)          │ (\u001b[38;5;34m32\u001b[0m, \u001b[38;5;34m128\u001b[0m)              │        \u001b[38;5;34m32,896\u001b[0m │\n",
       "├─────────────────────────────────┼────────────────────────┼───────────────┤\n",
       "│ dense (\u001b[38;5;33mDense\u001b[0m)                   │ (\u001b[38;5;34m32\u001b[0m, \u001b[38;5;34m1\u001b[0m)                │           \u001b[38;5;34m129\u001b[0m │\n",
       "└─────────────────────────────────┴────────────────────────┴───────────────┘\n"
      ]
     },
     "metadata": {},
     "output_type": "display_data"
    },
    {
     "data": {
      "text/html": [
       "<pre style=\"white-space:pre;overflow-x:auto;line-height:normal;font-family:Menlo,'DejaVu Sans Mono',consolas,'Courier New',monospace\"><span style=\"font-weight: bold\"> Total params: </span><span style=\"color: #00af00; text-decoration-color: #00af00\">1,313,027</span> (5.01 MB)\n",
       "</pre>\n"
      ],
      "text/plain": [
       "\u001b[1m Total params: \u001b[0m\u001b[38;5;34m1,313,027\u001b[0m (5.01 MB)\n"
      ]
     },
     "metadata": {},
     "output_type": "display_data"
    },
    {
     "data": {
      "text/html": [
       "<pre style=\"white-space:pre;overflow-x:auto;line-height:normal;font-family:Menlo,'DejaVu Sans Mono',consolas,'Courier New',monospace\"><span style=\"font-weight: bold\"> Trainable params: </span><span style=\"color: #00af00; text-decoration-color: #00af00\">1,313,025</span> (5.01 MB)\n",
       "</pre>\n"
      ],
      "text/plain": [
       "\u001b[1m Trainable params: \u001b[0m\u001b[38;5;34m1,313,025\u001b[0m (5.01 MB)\n"
      ]
     },
     "metadata": {},
     "output_type": "display_data"
    },
    {
     "data": {
      "text/html": [
       "<pre style=\"white-space:pre;overflow-x:auto;line-height:normal;font-family:Menlo,'DejaVu Sans Mono',consolas,'Courier New',monospace\"><span style=\"font-weight: bold\"> Non-trainable params: </span><span style=\"color: #00af00; text-decoration-color: #00af00\">0</span> (0.00 B)\n",
       "</pre>\n"
      ],
      "text/plain": [
       "\u001b[1m Non-trainable params: \u001b[0m\u001b[38;5;34m0\u001b[0m (0.00 B)\n"
      ]
     },
     "metadata": {},
     "output_type": "display_data"
    },
    {
     "data": {
      "text/html": [
       "<pre style=\"white-space:pre;overflow-x:auto;line-height:normal;font-family:Menlo,'DejaVu Sans Mono',consolas,'Courier New',monospace\"><span style=\"font-weight: bold\"> Optimizer params: </span><span style=\"color: #00af00; text-decoration-color: #00af00\">2</span> (12.00 B)\n",
       "</pre>\n"
      ],
      "text/plain": [
       "\u001b[1m Optimizer params: \u001b[0m\u001b[38;5;34m2\u001b[0m (12.00 B)\n"
      ]
     },
     "metadata": {},
     "output_type": "display_data"
    }
   ],
   "source": [
    "model.summary()"
   ]
  },
  {
   "cell_type": "code",
   "execution_count": 9,
   "id": "1c3b10dd",
   "metadata": {},
   "outputs": [
    {
     "data": {
      "text/plain": [
       "[array([[ 0.44177455, -0.06259424, -0.15401503, ..., -0.13884535,\n",
       "         -0.14411852,  0.09847732],\n",
       "        [ 0.03853928,  0.0298192 , -0.03342706, ..., -0.02723361,\n",
       "          0.0533881 , -0.03880658],\n",
       "        [ 0.03652297, -0.02509839,  0.03757727, ..., -0.00838427,\n",
       "          0.06802641, -0.00063416],\n",
       "        ...,\n",
       "        [ 0.03851187, -0.05054995,  0.01051652, ..., -0.04915041,\n",
       "         -0.04822798,  0.16102608],\n",
       "        [ 0.03376509, -0.0643152 , -0.05892742, ...,  0.02238032,\n",
       "          0.02728516, -0.04299476],\n",
       "        [ 0.07691234,  0.01913426, -0.04012447, ..., -0.09771968,\n",
       "         -0.06150468,  0.10410537]], dtype=float32),\n",
       " array([[ 0.04433301, -0.13096474,  0.04167   , ..., -0.07698557,\n",
       "         -0.14532374, -0.11564078],\n",
       "        [-0.06146051, -0.09900136,  0.11123837, ...,  0.04015481,\n",
       "         -0.04150947, -0.04389758],\n",
       "        [ 0.04082019, -0.1266026 ,  0.15433247, ...,  0.09380602,\n",
       "          0.03023759,  0.1374916 ],\n",
       "        ...,\n",
       "        [-0.10690843, -0.09948639,  0.03775367, ...,  0.03134771,\n",
       "          0.14472742,  0.11588708],\n",
       "        [-0.08559097, -0.1200207 ,  0.0414858 , ..., -0.00353534,\n",
       "         -0.10454297,  0.08945682],\n",
       "        [ 0.0598281 ,  0.11727472, -0.08755041, ..., -0.08908409,\n",
       "          0.04574306, -0.13054444]], dtype=float32),\n",
       " array([[-0.07039279, -0.16733961, -0.06195777, ..., -0.05567216,\n",
       "          0.05066454, -0.02188352],\n",
       "        [-0.13588391,  0.12530097,  0.03416584, ..., -0.2620643 ,\n",
       "         -0.05427643, -0.00738654],\n",
       "        [-0.06946091,  0.20120662, -0.04127042, ..., -0.09762878,\n",
       "          0.11646424,  0.05016852],\n",
       "        ...,\n",
       "        [-0.03388515, -0.17409047, -0.08920521, ...,  0.12311517,\n",
       "          0.06793105, -0.06915201],\n",
       "        [ 0.0113468 , -0.00545174,  0.03695678, ...,  0.10703553,\n",
       "          0.19712777,  0.03738164],\n",
       "        [-0.00873332,  0.01993221,  0.04682526, ..., -0.18293023,\n",
       "         -0.03236958, -0.24888127]], dtype=float32),\n",
       " array([ 0.00661585,  0.00425042,  0.01444932, -0.01745805, -0.02843862,\n",
       "        -0.02331887, -0.02310262, -0.02692279, -0.01729682,  0.00642115,\n",
       "         0.01453358, -0.00734367,  0.00444059, -0.02367524, -0.00218477,\n",
       "        -0.01198529,  0.02118835,  0.0094028 ,  0.00722689,  0.00879066,\n",
       "         0.01494614,  0.00070181,  0.00166011, -0.02387129,  0.00830056,\n",
       "        -0.00806389,  0.00750595, -0.01523618, -0.01187336,  0.00075742,\n",
       "        -0.02253907, -0.00106481, -0.0190976 , -0.00340171,  0.00296535,\n",
       "        -0.00400219,  0.00489621, -0.00929994, -0.01748696, -0.01286053,\n",
       "         0.00458573, -0.03128335, -0.01492139,  0.01259574, -0.01299911,\n",
       "        -0.00398811,  0.0037485 , -0.01558439, -0.00260345, -0.00340783,\n",
       "        -0.02620295,  0.01912627,  0.00720425, -0.01777742, -0.02363558,\n",
       "        -0.00674846,  0.01023938, -0.00235657,  0.00143093, -0.01789872,\n",
       "        -0.00587398,  0.0058109 , -0.02910804, -0.00110398, -0.01481862,\n",
       "         0.02083006, -0.01714627, -0.0142226 , -0.02022866,  0.00921432,\n",
       "        -0.02709448, -0.00537176, -0.01786854,  0.02249503, -0.00803587,\n",
       "        -0.01638693,  0.01892444, -0.0125996 , -0.00542307, -0.02003245,\n",
       "        -0.01016624, -0.00631514, -0.01077675, -0.01251989,  0.02642674,\n",
       "        -0.01593493, -0.029782  ,  0.01113883,  0.01709832, -0.00644848,\n",
       "        -0.00930966, -0.00609163, -0.01159032, -0.01222731, -0.02572071,\n",
       "         0.0079342 , -0.02143664, -0.01794828,  0.00076878, -0.01514561,\n",
       "         0.00588468, -0.00409937, -0.01868657, -0.00527395,  0.0797701 ,\n",
       "        -0.01324075, -0.00351874, -0.00846831, -0.0051708 ,  0.02414096,\n",
       "        -0.02351074, -0.01068105, -0.01143351, -0.03304294, -0.02791984,\n",
       "        -0.0175656 , -0.01408172, -0.01544831,  0.00231054, -0.02295468,\n",
       "        -0.00453738, -0.00518072,  0.0011539 , -0.00062907,  0.00273686,\n",
       "        -0.00455782, -0.03018907, -0.00478908], dtype=float32),\n",
       " array([[ 0.14779684],\n",
       "        [ 0.21441892],\n",
       "        [-0.16548929],\n",
       "        [ 0.19700234],\n",
       "        [ 0.01266566],\n",
       "        [ 0.10351128],\n",
       "        [ 0.97304326],\n",
       "        [-0.6527733 ],\n",
       "        [-0.05398192],\n",
       "        [-0.21254332],\n",
       "        [-0.24730419],\n",
       "        [ 0.07331274],\n",
       "        [ 0.08800169],\n",
       "        [-0.13674961],\n",
       "        [-0.22119832],\n",
       "        [-0.03592251],\n",
       "        [-0.2169136 ],\n",
       "        [-0.17189835],\n",
       "        [-0.18918243],\n",
       "        [-0.66964453],\n",
       "        [-0.21606863],\n",
       "        [-0.06964627],\n",
       "        [-0.14174746],\n",
       "        [-0.25728482],\n",
       "        [ 0.00770856],\n",
       "        [ 0.15340872],\n",
       "        [-0.2430521 ],\n",
       "        [-0.16102092],\n",
       "        [ 0.12994994],\n",
       "        [-0.1752164 ],\n",
       "        [-0.14098425],\n",
       "        [-0.2183758 ],\n",
       "        [ 0.12128768],\n",
       "        [-0.19774528],\n",
       "        [-0.02422331],\n",
       "        [ 0.20184177],\n",
       "        [ 0.25885698],\n",
       "        [-0.12424777],\n",
       "        [ 0.08570226],\n",
       "        [ 0.14522363],\n",
       "        [ 0.19476832],\n",
       "        [-0.04236015],\n",
       "        [ 0.0651267 ],\n",
       "        [ 0.08951367],\n",
       "        [ 0.13781057],\n",
       "        [-0.03452221],\n",
       "        [ 0.22216466],\n",
       "        [-0.6061186 ],\n",
       "        [-0.14181373],\n",
       "        [-0.14161588],\n",
       "        [ 0.50067693],\n",
       "        [ 0.6589643 ],\n",
       "        [-0.09993281],\n",
       "        [ 0.16871955],\n",
       "        [ 0.538081  ],\n",
       "        [ 0.08588043],\n",
       "        [-0.43663937],\n",
       "        [-0.04199514],\n",
       "        [ 0.12036644],\n",
       "        [ 0.08151758],\n",
       "        [-0.12503536],\n",
       "        [-0.19917198],\n",
       "        [ 0.38119394],\n",
       "        [ 0.1021907 ],\n",
       "        [-0.14152205],\n",
       "        [ 0.1350733 ],\n",
       "        [ 0.14315653],\n",
       "        [-0.00324836],\n",
       "        [ 0.23274432],\n",
       "        [-0.03948855],\n",
       "        [-0.17466164],\n",
       "        [-0.06493336],\n",
       "        [ 0.4516699 ],\n",
       "        [ 0.21366471],\n",
       "        [ 0.20920761],\n",
       "        [-0.00261432],\n",
       "        [-0.9369651 ],\n",
       "        [ 0.03170447],\n",
       "        [ 0.14050986],\n",
       "        [-0.05583753],\n",
       "        [ 0.14844117],\n",
       "        [-0.05271406],\n",
       "        [ 0.08553038],\n",
       "        [ 0.14428051],\n",
       "        [ 0.45869058],\n",
       "        [ 0.03807522],\n",
       "        [ 0.32524636],\n",
       "        [-0.10771486],\n",
       "        [-0.17638691],\n",
       "        [-0.01402899],\n",
       "        [-0.18403092],\n",
       "        [ 0.06347512],\n",
       "        [-0.05506371],\n",
       "        [-0.7459662 ],\n",
       "        [-0.06998374],\n",
       "        [-0.06565084],\n",
       "        [-0.09250518],\n",
       "        [ 0.18266259],\n",
       "        [-0.9633984 ],\n",
       "        [ 0.09663174],\n",
       "        [ 0.4046219 ],\n",
       "        [ 0.11612593],\n",
       "        [ 0.03106141],\n",
       "        [-0.22654252],\n",
       "        [ 0.2446524 ],\n",
       "        [ 0.17807774],\n",
       "        [ 0.15953709],\n",
       "        [-0.08652014],\n",
       "        [-0.07930776],\n",
       "        [-0.21771882],\n",
       "        [ 0.22388461],\n",
       "        [ 0.07198973],\n",
       "        [ 0.06150427],\n",
       "        [ 0.40610635],\n",
       "        [-0.06989159],\n",
       "        [-0.06028999],\n",
       "        [ 0.05998578],\n",
       "        [-0.83644253],\n",
       "        [-0.3025292 ],\n",
       "        [-0.12770605],\n",
       "        [-0.07644994],\n",
       "        [ 0.21708947],\n",
       "        [ 0.15340386],\n",
       "        [-0.08996629],\n",
       "        [-0.21559782],\n",
       "        [ 0.10580853],\n",
       "        [-0.09383116],\n",
       "        [ 0.17035848]], dtype=float32),\n",
       " array([-0.19887671], dtype=float32)]"
      ]
     },
     "execution_count": 9,
     "metadata": {},
     "output_type": "execute_result"
    }
   ],
   "source": [
    "model.get_weights()"
   ]
  },
  {
   "cell_type": "code",
   "execution_count": 14,
   "id": "1b637f02",
   "metadata": {},
   "outputs": [],
   "source": [
    "def decide_review(encoded_review):\n",
    "    return ' '.join([reverse_word_index.get(i - 3, '?') for i in encoded_review])\n",
    "\n",
    "\n",
    "def preprocess_text(text):\n",
    "    words = text.lower().split()\n",
    "    encoded_review = [word_index.get(word, 2) + 3 for word in words]\n",
    "    padded_review = sequence.pad_sequences([encoded_review], maxlen=500)\n",
    "    return padded_review"
   ]
  },
  {
   "cell_type": "code",
   "execution_count": 15,
   "id": "f54ac38d",
   "metadata": {},
   "outputs": [],
   "source": [
    "# Prediction function\n",
    "\n",
    "def predict_sentiment(review):\n",
    "    preprocessed_input = preprocess_text(review)\n",
    "\n",
    "    prediction = model.predict(preprocessed_input)\n",
    "\n",
    "    sentiment = 'Positive' if prediction[0][0] > 0.5 else 'Negative'\n",
    "    return sentiment, prediction[0][0]"
   ]
  },
  {
   "cell_type": "code",
   "execution_count": 16,
   "id": "9a39e48d",
   "metadata": {},
   "outputs": [],
   "source": [
    "example_review = \"The movie was fantastic! The acting was great and the plot was thrilling.\""
   ]
  },
  {
   "cell_type": "code",
   "execution_count": 18,
   "id": "87681c90",
   "metadata": {},
   "outputs": [
    {
     "name": "stdout",
     "output_type": "stream",
     "text": [
      "\u001b[1m1/1\u001b[0m \u001b[32m━━━━━━━━━━━━━━━━━━━━\u001b[0m\u001b[37m\u001b[0m \u001b[1m0s\u001b[0m 29ms/step\n"
     ]
    }
   ],
   "source": [
    "sentiment, score = predict_sentiment(example_review)"
   ]
  },
  {
   "cell_type": "code",
   "execution_count": 19,
   "id": "d18bc667",
   "metadata": {},
   "outputs": [
    {
     "data": {
      "text/plain": [
       "('Positive', np.float32(0.59883964))"
      ]
     },
     "execution_count": 19,
     "metadata": {},
     "output_type": "execute_result"
    }
   ],
   "source": [
    "sentiment, score\n"
   ]
  },
  {
   "cell_type": "code",
   "execution_count": 20,
   "id": "0ba24ecf",
   "metadata": {},
   "outputs": [],
   "source": [
    "a = 'Worst moviw'"
   ]
  },
  {
   "cell_type": "code",
   "execution_count": 21,
   "id": "75742ba7",
   "metadata": {},
   "outputs": [
    {
     "name": "stdout",
     "output_type": "stream",
     "text": [
      "\u001b[1m1/1\u001b[0m \u001b[32m━━━━━━━━━━━━━━━━━━━━\u001b[0m\u001b[37m\u001b[0m \u001b[1m0s\u001b[0m 36ms/step\n"
     ]
    },
    {
     "data": {
      "text/plain": [
       "('Negative', np.float32(0.28314722))"
      ]
     },
     "execution_count": 21,
     "metadata": {},
     "output_type": "execute_result"
    }
   ],
   "source": [
    "predict_sentiment(a)"
   ]
  },
  {
   "cell_type": "code",
   "execution_count": null,
   "id": "096cff66",
   "metadata": {},
   "outputs": [],
   "source": []
  }
 ],
 "metadata": {
  "kernelspec": {
   "display_name": "venv",
   "language": "python",
   "name": "python3"
  },
  "language_info": {
   "codemirror_mode": {
    "name": "ipython",
    "version": 3
   },
   "file_extension": ".py",
   "mimetype": "text/x-python",
   "name": "python",
   "nbconvert_exporter": "python",
   "pygments_lexer": "ipython3",
   "version": "3.10.9"
  }
 },
 "nbformat": 4,
 "nbformat_minor": 5
}
